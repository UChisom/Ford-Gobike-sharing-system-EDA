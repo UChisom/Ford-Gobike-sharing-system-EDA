{
 "cells": [
  {
   "cell_type": "markdown",
   "metadata": {},
   "source": [
    "# Part I - Ford GoBike System Data <a id=topic0></a>\n",
    "## by Chisom Urom"
   ]
  },
  {
   "cell_type": "markdown",
   "metadata": {},
   "source": [
    "## Content Outline \n",
    "\n",
    "- [Preliminary Wrangling](#topic1)\n",
    "- [Assessing and Cleaning Issues](#topic2)\n",
    "- [Univariate Exploration](#topic3)\n",
    "- [Bivariate Exploration](#topic4)\n",
    "- [Multivariate Exploration](#topic5)\n",
    "- [Conclusions](#topic6)"
   ]
  },
  {
   "cell_type": "markdown",
   "metadata": {},
   "source": [
    "## Introduction\n",
    "> This document explores the Ford GoBike System Data which contains information about individual rides made in a bike-sharing system covering the greater San Francisco Bay area.\n",
    "\n",
    "> The dataset contains 183, 412 rows for each indivisual ride, and 16 column variable characterising them.\n",
    "\n",
    "> It contains information on the trips taken like the station name and geographical positioning in latitudes and longitudes. Also, it captures genric information on the user of the bike for the respective trips like the age, gender and the type of user: Subscriber or Customer.\n",
    "\n",
    "> The following variables are contained in the dataset:\n",
    "\n",
    "- Trip Duration (seconds)\n",
    "- Start Time and Date\n",
    "- End Time and Date\n",
    "- Start Station ID\n",
    "- Start Station Name\n",
    "- Start Station Latitude\n",
    "- Start Station Longitude\n",
    "- End Station ID\n",
    "- End Station Name\n",
    "- End Station Latitude\n",
    "- End Station Longitude\n",
    "- Bike ID\n",
    "- User Type (Subscriber or Customer)\n",
    "\n",
    "\n",
    "## Preliminary Wrangling <a id=topic1></a>\n",
    "\n",
    "> I will perform some preliminary wrangling to clean and ready the data for use in the exploratory analysis."
   ]
  },
  {
   "cell_type": "code",
   "execution_count": 52,
   "metadata": {},
   "outputs": [],
   "source": [
    "# import all packages and set plots to be embedded inline\n",
    "import numpy as np\n",
    "import pandas as pd\n",
    "import matplotlib.pyplot as plt\n",
    "import seaborn as sns\n",
    "\n",
    "%matplotlib inline"
   ]
  },
  {
   "cell_type": "code",
   "execution_count": 53,
   "metadata": {},
   "outputs": [
    {
     "name": "stdout",
     "output_type": "stream",
     "text": [
      "(183412, 16)\n",
      "duration_sec                 int64\n",
      "start_time                  object\n",
      "end_time                    object\n",
      "start_station_id           float64\n",
      "start_station_name          object\n",
      "start_station_latitude     float64\n",
      "start_station_longitude    float64\n",
      "end_station_id             float64\n",
      "end_station_name            object\n",
      "end_station_latitude       float64\n",
      "end_station_longitude      float64\n",
      "bike_id                      int64\n",
      "user_type                   object\n",
      "member_birth_year          float64\n",
      "member_gender               object\n",
      "bike_share_for_all_trip     object\n",
      "dtype: object\n"
     ]
    },
    {
     "data": {
      "text/html": [
       "<div>\n",
       "<style scoped>\n",
       "    .dataframe tbody tr th:only-of-type {\n",
       "        vertical-align: middle;\n",
       "    }\n",
       "\n",
       "    .dataframe tbody tr th {\n",
       "        vertical-align: top;\n",
       "    }\n",
       "\n",
       "    .dataframe thead th {\n",
       "        text-align: right;\n",
       "    }\n",
       "</style>\n",
       "<table border=\"1\" class=\"dataframe\">\n",
       "  <thead>\n",
       "    <tr style=\"text-align: right;\">\n",
       "      <th></th>\n",
       "      <th>duration_sec</th>\n",
       "      <th>start_time</th>\n",
       "      <th>end_time</th>\n",
       "      <th>start_station_id</th>\n",
       "      <th>start_station_name</th>\n",
       "      <th>start_station_latitude</th>\n",
       "      <th>start_station_longitude</th>\n",
       "      <th>end_station_id</th>\n",
       "      <th>end_station_name</th>\n",
       "      <th>end_station_latitude</th>\n",
       "      <th>end_station_longitude</th>\n",
       "      <th>bike_id</th>\n",
       "      <th>user_type</th>\n",
       "      <th>member_birth_year</th>\n",
       "      <th>member_gender</th>\n",
       "      <th>bike_share_for_all_trip</th>\n",
       "    </tr>\n",
       "  </thead>\n",
       "  <tbody>\n",
       "    <tr>\n",
       "      <th>0</th>\n",
       "      <td>52185</td>\n",
       "      <td>2019-02-28 17:32:10.1450</td>\n",
       "      <td>2019-03-01 08:01:55.9750</td>\n",
       "      <td>21.0</td>\n",
       "      <td>Montgomery St BART Station (Market St at 2nd St)</td>\n",
       "      <td>37.789625</td>\n",
       "      <td>-122.400811</td>\n",
       "      <td>13.0</td>\n",
       "      <td>Commercial St at Montgomery St</td>\n",
       "      <td>37.794231</td>\n",
       "      <td>-122.402923</td>\n",
       "      <td>4902</td>\n",
       "      <td>Customer</td>\n",
       "      <td>1984.0</td>\n",
       "      <td>Male</td>\n",
       "      <td>No</td>\n",
       "    </tr>\n",
       "    <tr>\n",
       "      <th>1</th>\n",
       "      <td>42521</td>\n",
       "      <td>2019-02-28 18:53:21.7890</td>\n",
       "      <td>2019-03-01 06:42:03.0560</td>\n",
       "      <td>23.0</td>\n",
       "      <td>The Embarcadero at Steuart St</td>\n",
       "      <td>37.791464</td>\n",
       "      <td>-122.391034</td>\n",
       "      <td>81.0</td>\n",
       "      <td>Berry St at 4th St</td>\n",
       "      <td>37.775880</td>\n",
       "      <td>-122.393170</td>\n",
       "      <td>2535</td>\n",
       "      <td>Customer</td>\n",
       "      <td>NaN</td>\n",
       "      <td>NaN</td>\n",
       "      <td>No</td>\n",
       "    </tr>\n",
       "    <tr>\n",
       "      <th>2</th>\n",
       "      <td>61854</td>\n",
       "      <td>2019-02-28 12:13:13.2180</td>\n",
       "      <td>2019-03-01 05:24:08.1460</td>\n",
       "      <td>86.0</td>\n",
       "      <td>Market St at Dolores St</td>\n",
       "      <td>37.769305</td>\n",
       "      <td>-122.426826</td>\n",
       "      <td>3.0</td>\n",
       "      <td>Powell St BART Station (Market St at 4th St)</td>\n",
       "      <td>37.786375</td>\n",
       "      <td>-122.404904</td>\n",
       "      <td>5905</td>\n",
       "      <td>Customer</td>\n",
       "      <td>1972.0</td>\n",
       "      <td>Male</td>\n",
       "      <td>No</td>\n",
       "    </tr>\n",
       "    <tr>\n",
       "      <th>3</th>\n",
       "      <td>36490</td>\n",
       "      <td>2019-02-28 17:54:26.0100</td>\n",
       "      <td>2019-03-01 04:02:36.8420</td>\n",
       "      <td>375.0</td>\n",
       "      <td>Grove St at Masonic Ave</td>\n",
       "      <td>37.774836</td>\n",
       "      <td>-122.446546</td>\n",
       "      <td>70.0</td>\n",
       "      <td>Central Ave at Fell St</td>\n",
       "      <td>37.773311</td>\n",
       "      <td>-122.444293</td>\n",
       "      <td>6638</td>\n",
       "      <td>Subscriber</td>\n",
       "      <td>1989.0</td>\n",
       "      <td>Other</td>\n",
       "      <td>No</td>\n",
       "    </tr>\n",
       "    <tr>\n",
       "      <th>4</th>\n",
       "      <td>1585</td>\n",
       "      <td>2019-02-28 23:54:18.5490</td>\n",
       "      <td>2019-03-01 00:20:44.0740</td>\n",
       "      <td>7.0</td>\n",
       "      <td>Frank H Ogawa Plaza</td>\n",
       "      <td>37.804562</td>\n",
       "      <td>-122.271738</td>\n",
       "      <td>222.0</td>\n",
       "      <td>10th Ave at E 15th St</td>\n",
       "      <td>37.792714</td>\n",
       "      <td>-122.248780</td>\n",
       "      <td>4898</td>\n",
       "      <td>Subscriber</td>\n",
       "      <td>1974.0</td>\n",
       "      <td>Male</td>\n",
       "      <td>Yes</td>\n",
       "    </tr>\n",
       "  </tbody>\n",
       "</table>\n",
       "</div>"
      ],
      "text/plain": [
       "   duration_sec                start_time                  end_time  \\\n",
       "0         52185  2019-02-28 17:32:10.1450  2019-03-01 08:01:55.9750   \n",
       "1         42521  2019-02-28 18:53:21.7890  2019-03-01 06:42:03.0560   \n",
       "2         61854  2019-02-28 12:13:13.2180  2019-03-01 05:24:08.1460   \n",
       "3         36490  2019-02-28 17:54:26.0100  2019-03-01 04:02:36.8420   \n",
       "4          1585  2019-02-28 23:54:18.5490  2019-03-01 00:20:44.0740   \n",
       "\n",
       "   start_station_id                                start_station_name  \\\n",
       "0              21.0  Montgomery St BART Station (Market St at 2nd St)   \n",
       "1              23.0                     The Embarcadero at Steuart St   \n",
       "2              86.0                           Market St at Dolores St   \n",
       "3             375.0                           Grove St at Masonic Ave   \n",
       "4               7.0                               Frank H Ogawa Plaza   \n",
       "\n",
       "   start_station_latitude  start_station_longitude  end_station_id  \\\n",
       "0               37.789625              -122.400811            13.0   \n",
       "1               37.791464              -122.391034            81.0   \n",
       "2               37.769305              -122.426826             3.0   \n",
       "3               37.774836              -122.446546            70.0   \n",
       "4               37.804562              -122.271738           222.0   \n",
       "\n",
       "                               end_station_name  end_station_latitude  \\\n",
       "0                Commercial St at Montgomery St             37.794231   \n",
       "1                            Berry St at 4th St             37.775880   \n",
       "2  Powell St BART Station (Market St at 4th St)             37.786375   \n",
       "3                        Central Ave at Fell St             37.773311   \n",
       "4                         10th Ave at E 15th St             37.792714   \n",
       "\n",
       "   end_station_longitude  bike_id   user_type  member_birth_year  \\\n",
       "0            -122.402923     4902    Customer             1984.0   \n",
       "1            -122.393170     2535    Customer                NaN   \n",
       "2            -122.404904     5905    Customer             1972.0   \n",
       "3            -122.444293     6638  Subscriber             1989.0   \n",
       "4            -122.248780     4898  Subscriber             1974.0   \n",
       "\n",
       "  member_gender bike_share_for_all_trip  \n",
       "0          Male                      No  \n",
       "1           NaN                      No  \n",
       "2          Male                      No  \n",
       "3         Other                      No  \n",
       "4          Male                     Yes  "
      ]
     },
     "execution_count": 53,
     "metadata": {},
     "output_type": "execute_result"
    }
   ],
   "source": [
    "# read csv file into dataframe\n",
    "bike_df = pd.read_csv('201902-fordgobike-tripdata.csv')\n",
    "\n",
    "# get high level overiew of dataset\n",
    "print(bike_df.shape)\n",
    "print(bike_df.dtypes)\n",
    "bike_df.head()"
   ]
  },
  {
   "cell_type": "code",
   "execution_count": 54,
   "metadata": {},
   "outputs": [
    {
     "data": {
      "text/html": [
       "<div>\n",
       "<style scoped>\n",
       "    .dataframe tbody tr th:only-of-type {\n",
       "        vertical-align: middle;\n",
       "    }\n",
       "\n",
       "    .dataframe tbody tr th {\n",
       "        vertical-align: top;\n",
       "    }\n",
       "\n",
       "    .dataframe thead th {\n",
       "        text-align: right;\n",
       "    }\n",
       "</style>\n",
       "<table border=\"1\" class=\"dataframe\">\n",
       "  <thead>\n",
       "    <tr style=\"text-align: right;\">\n",
       "      <th></th>\n",
       "      <th>duration_sec</th>\n",
       "      <th>start_time</th>\n",
       "      <th>end_time</th>\n",
       "      <th>start_station_id</th>\n",
       "      <th>start_station_name</th>\n",
       "      <th>start_station_latitude</th>\n",
       "      <th>start_station_longitude</th>\n",
       "      <th>end_station_id</th>\n",
       "      <th>end_station_name</th>\n",
       "      <th>end_station_latitude</th>\n",
       "      <th>end_station_longitude</th>\n",
       "      <th>bike_id</th>\n",
       "      <th>user_type</th>\n",
       "      <th>member_birth_year</th>\n",
       "      <th>member_gender</th>\n",
       "      <th>bike_share_for_all_trip</th>\n",
       "    </tr>\n",
       "  </thead>\n",
       "  <tbody>\n",
       "    <tr>\n",
       "      <th>24231</th>\n",
       "      <td>134</td>\n",
       "      <td>2019-02-25 18:40:45.6810</td>\n",
       "      <td>2019-02-25 18:43:00.0390</td>\n",
       "      <td>244.0</td>\n",
       "      <td>Shattuck Ave at Hearst Ave</td>\n",
       "      <td>37.873676</td>\n",
       "      <td>-122.268487</td>\n",
       "      <td>258.0</td>\n",
       "      <td>University Ave at Oxford St</td>\n",
       "      <td>37.872355</td>\n",
       "      <td>-122.266447</td>\n",
       "      <td>4789</td>\n",
       "      <td>Subscriber</td>\n",
       "      <td>1998.0</td>\n",
       "      <td>Male</td>\n",
       "      <td>No</td>\n",
       "    </tr>\n",
       "    <tr>\n",
       "      <th>42662</th>\n",
       "      <td>1165</td>\n",
       "      <td>2019-02-22 17:09:55.9830</td>\n",
       "      <td>2019-02-22 17:29:21.6200</td>\n",
       "      <td>370.0</td>\n",
       "      <td>Jones St at Post St</td>\n",
       "      <td>37.787327</td>\n",
       "      <td>-122.413278</td>\n",
       "      <td>124.0</td>\n",
       "      <td>19th St at Florida St</td>\n",
       "      <td>37.760447</td>\n",
       "      <td>-122.410807</td>\n",
       "      <td>5570</td>\n",
       "      <td>Subscriber</td>\n",
       "      <td>1997.0</td>\n",
       "      <td>Female</td>\n",
       "      <td>No</td>\n",
       "    </tr>\n",
       "    <tr>\n",
       "      <th>110121</th>\n",
       "      <td>999</td>\n",
       "      <td>2019-02-12 18:06:42.7040</td>\n",
       "      <td>2019-02-12 18:23:22.1380</td>\n",
       "      <td>10.0</td>\n",
       "      <td>Washington St at Kearny St</td>\n",
       "      <td>37.795393</td>\n",
       "      <td>-122.404770</td>\n",
       "      <td>56.0</td>\n",
       "      <td>Koshland Park</td>\n",
       "      <td>37.773414</td>\n",
       "      <td>-122.427317</td>\n",
       "      <td>4942</td>\n",
       "      <td>Subscriber</td>\n",
       "      <td>1997.0</td>\n",
       "      <td>Male</td>\n",
       "      <td>No</td>\n",
       "    </tr>\n",
       "    <tr>\n",
       "      <th>157847</th>\n",
       "      <td>75</td>\n",
       "      <td>2019-02-05 20:32:18.0690</td>\n",
       "      <td>2019-02-05 20:33:33.9340</td>\n",
       "      <td>182.0</td>\n",
       "      <td>19th Street BART Station</td>\n",
       "      <td>37.809013</td>\n",
       "      <td>-122.268247</td>\n",
       "      <td>337.0</td>\n",
       "      <td>Webster St at 19th St</td>\n",
       "      <td>37.806970</td>\n",
       "      <td>-122.266588</td>\n",
       "      <td>3049</td>\n",
       "      <td>Subscriber</td>\n",
       "      <td>1987.0</td>\n",
       "      <td>Male</td>\n",
       "      <td>No</td>\n",
       "    </tr>\n",
       "  </tbody>\n",
       "</table>\n",
       "</div>"
      ],
      "text/plain": [
       "        duration_sec                start_time                  end_time  \\\n",
       "24231            134  2019-02-25 18:40:45.6810  2019-02-25 18:43:00.0390   \n",
       "42662           1165  2019-02-22 17:09:55.9830  2019-02-22 17:29:21.6200   \n",
       "110121           999  2019-02-12 18:06:42.7040  2019-02-12 18:23:22.1380   \n",
       "157847            75  2019-02-05 20:32:18.0690  2019-02-05 20:33:33.9340   \n",
       "\n",
       "        start_station_id          start_station_name  start_station_latitude  \\\n",
       "24231              244.0  Shattuck Ave at Hearst Ave               37.873676   \n",
       "42662              370.0         Jones St at Post St               37.787327   \n",
       "110121              10.0  Washington St at Kearny St               37.795393   \n",
       "157847             182.0    19th Street BART Station               37.809013   \n",
       "\n",
       "        start_station_longitude  end_station_id             end_station_name  \\\n",
       "24231               -122.268487           258.0  University Ave at Oxford St   \n",
       "42662               -122.413278           124.0        19th St at Florida St   \n",
       "110121              -122.404770            56.0                Koshland Park   \n",
       "157847              -122.268247           337.0        Webster St at 19th St   \n",
       "\n",
       "        end_station_latitude  end_station_longitude  bike_id   user_type  \\\n",
       "24231              37.872355            -122.266447     4789  Subscriber   \n",
       "42662              37.760447            -122.410807     5570  Subscriber   \n",
       "110121             37.773414            -122.427317     4942  Subscriber   \n",
       "157847             37.806970            -122.266588     3049  Subscriber   \n",
       "\n",
       "        member_birth_year member_gender bike_share_for_all_trip  \n",
       "24231              1998.0          Male                      No  \n",
       "42662              1997.0        Female                      No  \n",
       "110121             1997.0          Male                      No  \n",
       "157847             1987.0          Male                      No  "
      ]
     },
     "execution_count": 54,
     "metadata": {},
     "output_type": "execute_result"
    }
   ],
   "source": [
    "bike_df.sample(4)"
   ]
  },
  {
   "cell_type": "code",
   "execution_count": 55,
   "metadata": {},
   "outputs": [
    {
     "data": {
      "text/html": [
       "<div>\n",
       "<style scoped>\n",
       "    .dataframe tbody tr th:only-of-type {\n",
       "        vertical-align: middle;\n",
       "    }\n",
       "\n",
       "    .dataframe tbody tr th {\n",
       "        vertical-align: top;\n",
       "    }\n",
       "\n",
       "    .dataframe thead th {\n",
       "        text-align: right;\n",
       "    }\n",
       "</style>\n",
       "<table border=\"1\" class=\"dataframe\">\n",
       "  <thead>\n",
       "    <tr style=\"text-align: right;\">\n",
       "      <th></th>\n",
       "      <th>duration_sec</th>\n",
       "      <th>start_station_id</th>\n",
       "      <th>start_station_latitude</th>\n",
       "      <th>start_station_longitude</th>\n",
       "      <th>end_station_id</th>\n",
       "      <th>end_station_latitude</th>\n",
       "      <th>end_station_longitude</th>\n",
       "      <th>bike_id</th>\n",
       "      <th>member_birth_year</th>\n",
       "    </tr>\n",
       "  </thead>\n",
       "  <tbody>\n",
       "    <tr>\n",
       "      <th>count</th>\n",
       "      <td>183412.000000</td>\n",
       "      <td>183215.000000</td>\n",
       "      <td>183412.000000</td>\n",
       "      <td>183412.000000</td>\n",
       "      <td>183215.000000</td>\n",
       "      <td>183412.000000</td>\n",
       "      <td>183412.000000</td>\n",
       "      <td>183412.000000</td>\n",
       "      <td>175147.000000</td>\n",
       "    </tr>\n",
       "    <tr>\n",
       "      <th>mean</th>\n",
       "      <td>726.078435</td>\n",
       "      <td>138.590427</td>\n",
       "      <td>37.771223</td>\n",
       "      <td>-122.352664</td>\n",
       "      <td>136.249123</td>\n",
       "      <td>37.771427</td>\n",
       "      <td>-122.352250</td>\n",
       "      <td>4472.906375</td>\n",
       "      <td>1984.806437</td>\n",
       "    </tr>\n",
       "    <tr>\n",
       "      <th>std</th>\n",
       "      <td>1794.389780</td>\n",
       "      <td>111.778864</td>\n",
       "      <td>0.099581</td>\n",
       "      <td>0.117097</td>\n",
       "      <td>111.515131</td>\n",
       "      <td>0.099490</td>\n",
       "      <td>0.116673</td>\n",
       "      <td>1664.383394</td>\n",
       "      <td>10.116689</td>\n",
       "    </tr>\n",
       "    <tr>\n",
       "      <th>min</th>\n",
       "      <td>61.000000</td>\n",
       "      <td>3.000000</td>\n",
       "      <td>37.317298</td>\n",
       "      <td>-122.453704</td>\n",
       "      <td>3.000000</td>\n",
       "      <td>37.317298</td>\n",
       "      <td>-122.453704</td>\n",
       "      <td>11.000000</td>\n",
       "      <td>1878.000000</td>\n",
       "    </tr>\n",
       "    <tr>\n",
       "      <th>25%</th>\n",
       "      <td>325.000000</td>\n",
       "      <td>47.000000</td>\n",
       "      <td>37.770083</td>\n",
       "      <td>-122.412408</td>\n",
       "      <td>44.000000</td>\n",
       "      <td>37.770407</td>\n",
       "      <td>-122.411726</td>\n",
       "      <td>3777.000000</td>\n",
       "      <td>1980.000000</td>\n",
       "    </tr>\n",
       "    <tr>\n",
       "      <th>50%</th>\n",
       "      <td>514.000000</td>\n",
       "      <td>104.000000</td>\n",
       "      <td>37.780760</td>\n",
       "      <td>-122.398285</td>\n",
       "      <td>100.000000</td>\n",
       "      <td>37.781010</td>\n",
       "      <td>-122.398279</td>\n",
       "      <td>4958.000000</td>\n",
       "      <td>1987.000000</td>\n",
       "    </tr>\n",
       "    <tr>\n",
       "      <th>75%</th>\n",
       "      <td>796.000000</td>\n",
       "      <td>239.000000</td>\n",
       "      <td>37.797280</td>\n",
       "      <td>-122.286533</td>\n",
       "      <td>235.000000</td>\n",
       "      <td>37.797320</td>\n",
       "      <td>-122.288045</td>\n",
       "      <td>5502.000000</td>\n",
       "      <td>1992.000000</td>\n",
       "    </tr>\n",
       "    <tr>\n",
       "      <th>max</th>\n",
       "      <td>85444.000000</td>\n",
       "      <td>398.000000</td>\n",
       "      <td>37.880222</td>\n",
       "      <td>-121.874119</td>\n",
       "      <td>398.000000</td>\n",
       "      <td>37.880222</td>\n",
       "      <td>-121.874119</td>\n",
       "      <td>6645.000000</td>\n",
       "      <td>2001.000000</td>\n",
       "    </tr>\n",
       "  </tbody>\n",
       "</table>\n",
       "</div>"
      ],
      "text/plain": [
       "        duration_sec  start_station_id  start_station_latitude  \\\n",
       "count  183412.000000     183215.000000           183412.000000   \n",
       "mean      726.078435        138.590427               37.771223   \n",
       "std      1794.389780        111.778864                0.099581   \n",
       "min        61.000000          3.000000               37.317298   \n",
       "25%       325.000000         47.000000               37.770083   \n",
       "50%       514.000000        104.000000               37.780760   \n",
       "75%       796.000000        239.000000               37.797280   \n",
       "max     85444.000000        398.000000               37.880222   \n",
       "\n",
       "       start_station_longitude  end_station_id  end_station_latitude  \\\n",
       "count            183412.000000   183215.000000         183412.000000   \n",
       "mean               -122.352664      136.249123             37.771427   \n",
       "std                   0.117097      111.515131              0.099490   \n",
       "min                -122.453704        3.000000             37.317298   \n",
       "25%                -122.412408       44.000000             37.770407   \n",
       "50%                -122.398285      100.000000             37.781010   \n",
       "75%                -122.286533      235.000000             37.797320   \n",
       "max                -121.874119      398.000000             37.880222   \n",
       "\n",
       "       end_station_longitude        bike_id  member_birth_year  \n",
       "count          183412.000000  183412.000000      175147.000000  \n",
       "mean             -122.352250    4472.906375        1984.806437  \n",
       "std                 0.116673    1664.383394          10.116689  \n",
       "min              -122.453704      11.000000        1878.000000  \n",
       "25%              -122.411726    3777.000000        1980.000000  \n",
       "50%              -122.398279    4958.000000        1987.000000  \n",
       "75%              -122.288045    5502.000000        1992.000000  \n",
       "max              -121.874119    6645.000000        2001.000000  "
      ]
     },
     "execution_count": 55,
     "metadata": {},
     "output_type": "execute_result"
    }
   ],
   "source": [
    "bike_df.describe()"
   ]
  },
  {
   "cell_type": "code",
   "execution_count": 56,
   "metadata": {},
   "outputs": [
    {
     "data": {
      "text/plain": [
       "0"
      ]
     },
     "execution_count": 56,
     "metadata": {},
     "output_type": "execute_result"
    }
   ],
   "source": [
    "# inspect for duplicate entries\n",
    "bike_df.duplicated().sum()"
   ]
  },
  {
   "cell_type": "code",
   "execution_count": 57,
   "metadata": {},
   "outputs": [
    {
     "name": "stdout",
     "output_type": "stream",
     "text": [
      "<class 'pandas.core.frame.DataFrame'>\n",
      "RangeIndex: 183412 entries, 0 to 183411\n",
      "Data columns (total 16 columns):\n",
      " #   Column                   Non-Null Count   Dtype  \n",
      "---  ------                   --------------   -----  \n",
      " 0   duration_sec             183412 non-null  int64  \n",
      " 1   start_time               183412 non-null  object \n",
      " 2   end_time                 183412 non-null  object \n",
      " 3   start_station_id         183215 non-null  float64\n",
      " 4   start_station_name       183215 non-null  object \n",
      " 5   start_station_latitude   183412 non-null  float64\n",
      " 6   start_station_longitude  183412 non-null  float64\n",
      " 7   end_station_id           183215 non-null  float64\n",
      " 8   end_station_name         183215 non-null  object \n",
      " 9   end_station_latitude     183412 non-null  float64\n",
      " 10  end_station_longitude    183412 non-null  float64\n",
      " 11  bike_id                  183412 non-null  int64  \n",
      " 12  user_type                183412 non-null  object \n",
      " 13  member_birth_year        175147 non-null  float64\n",
      " 14  member_gender            175147 non-null  object \n",
      " 15  bike_share_for_all_trip  183412 non-null  object \n",
      "dtypes: float64(7), int64(2), object(7)\n",
      "memory usage: 22.4+ MB\n"
     ]
    }
   ],
   "source": [
    "bike_df.info()"
   ]
  },
  {
   "cell_type": "markdown",
   "metadata": {},
   "source": [
    "### Assessing and Cleaning Issues <a id=topic2></a>\n",
    "- Max value for `duration_sec` appears outrageous (about 23 hours)\n",
    "- Incorrect Datatypes for `start_time` and `end_time` columns\n",
    "- Missing values in `member_birth_year`, `member_gender`, `start_station_name`, and `end_station_name` columns\n",
    "- Some columns in the dataset are extraneous\n",
    "- Columns of different observations unit types in one table"
   ]
  },
  {
   "cell_type": "code",
   "execution_count": 58,
   "metadata": {},
   "outputs": [],
   "source": [
    "# make a copy of the dataframe before cleaning\n",
    "bike = bike_df.copy()"
   ]
  },
  {
   "cell_type": "markdown",
   "metadata": {},
   "source": [
    "### Define\n",
    "Correct the datatypes for the start_time and end_time columns"
   ]
  },
  {
   "cell_type": "code",
   "execution_count": 59,
   "metadata": {},
   "outputs": [],
   "source": [
    "# convert the datatypes to datetime\n",
    "bike['start_time'] = pd.to_datetime(bike['start_time'])\n",
    "bike['end_time'] = pd.to_datetime(bike['end_time'])"
   ]
  },
  {
   "cell_type": "code",
   "execution_count": 60,
   "metadata": {
    "scrolled": false
   },
   "outputs": [
    {
     "data": {
      "text/plain": [
       "duration_sec                        int64\n",
       "start_time                 datetime64[ns]\n",
       "end_time                   datetime64[ns]\n",
       "start_station_id                  float64\n",
       "start_station_name                 object\n",
       "start_station_latitude            float64\n",
       "start_station_longitude           float64\n",
       "end_station_id                    float64\n",
       "end_station_name                   object\n",
       "end_station_latitude              float64\n",
       "end_station_longitude             float64\n",
       "bike_id                             int64\n",
       "user_type                          object\n",
       "member_birth_year                 float64\n",
       "member_gender                      object\n",
       "bike_share_for_all_trip            object\n",
       "dtype: object"
      ]
     },
     "execution_count": 60,
     "metadata": {},
     "output_type": "execute_result"
    }
   ],
   "source": [
    "bike.dtypes"
   ]
  },
  {
   "cell_type": "markdown",
   "metadata": {},
   "source": [
    "### Define \n",
    "\n",
    "Drop rows with missing values"
   ]
  },
  {
   "cell_type": "code",
   "execution_count": 61,
   "metadata": {},
   "outputs": [],
   "source": [
    "bike.dropna(inplace =True)"
   ]
  },
  {
   "cell_type": "code",
   "execution_count": 62,
   "metadata": {},
   "outputs": [
    {
     "name": "stdout",
     "output_type": "stream",
     "text": [
      "<class 'pandas.core.frame.DataFrame'>\n",
      "Int64Index: 174952 entries, 0 to 183411\n",
      "Data columns (total 16 columns):\n",
      " #   Column                   Non-Null Count   Dtype         \n",
      "---  ------                   --------------   -----         \n",
      " 0   duration_sec             174952 non-null  int64         \n",
      " 1   start_time               174952 non-null  datetime64[ns]\n",
      " 2   end_time                 174952 non-null  datetime64[ns]\n",
      " 3   start_station_id         174952 non-null  float64       \n",
      " 4   start_station_name       174952 non-null  object        \n",
      " 5   start_station_latitude   174952 non-null  float64       \n",
      " 6   start_station_longitude  174952 non-null  float64       \n",
      " 7   end_station_id           174952 non-null  float64       \n",
      " 8   end_station_name         174952 non-null  object        \n",
      " 9   end_station_latitude     174952 non-null  float64       \n",
      " 10  end_station_longitude    174952 non-null  float64       \n",
      " 11  bike_id                  174952 non-null  int64         \n",
      " 12  user_type                174952 non-null  object        \n",
      " 13  member_birth_year        174952 non-null  float64       \n",
      " 14  member_gender            174952 non-null  object        \n",
      " 15  bike_share_for_all_trip  174952 non-null  object        \n",
      "dtypes: datetime64[ns](2), float64(7), int64(2), object(5)\n",
      "memory usage: 22.7+ MB\n"
     ]
    }
   ],
   "source": [
    "bike.info()"
   ]
  },
  {
   "cell_type": "markdown",
   "metadata": {},
   "source": [
    "### Define\n",
    "\n",
    "Confirm that the max vaue for duration_sec column is indeed correctly calculated"
   ]
  },
  {
   "cell_type": "code",
   "execution_count": 63,
   "metadata": {},
   "outputs": [
    {
     "name": "stdout",
     "output_type": "stream",
     "text": [
      "The maximum number of seconds is: 84548  = 84548\n"
     ]
    }
   ],
   "source": [
    "max_value = bike.duration_sec.max()\n",
    "\n",
    "# isolate the row for which the duration is equal to the max_value\n",
    "max_row = bike[bike.duration_sec == max_value]\n",
    "\n",
    "# confirm that the original  entry is correct\n",
    "print(f\"The maximum number of seconds is: {int((max_row.end_time - max_row.start_time).dt.total_seconds().values[0])}  = {max_value}\")"
   ]
  },
  {
   "cell_type": "markdown",
   "metadata": {},
   "source": [
    "### Define\n",
    "Remove columns from dataset that wouldn't be necessary for our analysis"
   ]
  },
  {
   "cell_type": "code",
   "execution_count": 64,
   "metadata": {},
   "outputs": [
    {
     "data": {
      "text/plain": [
       "Index(['duration_sec', 'start_time', 'end_time', 'start_station_id',\n",
       "       'start_station_name', 'start_station_latitude',\n",
       "       'start_station_longitude', 'end_station_id', 'end_station_name',\n",
       "       'end_station_latitude', 'end_station_longitude', 'bike_id', 'user_type',\n",
       "       'member_birth_year', 'member_gender', 'bike_share_for_all_trip'],\n",
       "      dtype='object')"
      ]
     },
     "execution_count": 64,
     "metadata": {},
     "output_type": "execute_result"
    }
   ],
   "source": [
    "bike.columns"
   ]
  },
  {
   "cell_type": "code",
   "execution_count": 65,
   "metadata": {},
   "outputs": [],
   "source": [
    "# drop the unnecessary columns\n",
    "ext_columns = ['start_station_id', 'start_station_latitude', 'start_station_longitude', 'end_station_id', 'end_station_latitude', 'end_station_longitude', 'bike_share_for_all_trip']\n",
    "bike.drop(columns=ext_columns, inplace=True)"
   ]
  },
  {
   "cell_type": "code",
   "execution_count": 66,
   "metadata": {
    "scrolled": false
   },
   "outputs": [
    {
     "data": {
      "text/plain": [
       "Index(['duration_sec', 'start_time', 'end_time', 'start_station_name',\n",
       "       'end_station_name', 'bike_id', 'user_type', 'member_birth_year',\n",
       "       'member_gender'],\n",
       "      dtype='object')"
      ]
     },
     "execution_count": 66,
     "metadata": {},
     "output_type": "execute_result"
    }
   ],
   "source": [
    "bike.columns"
   ]
  },
  {
   "cell_type": "markdown",
   "metadata": {},
   "source": [
    "### Define\n",
    "Create a table for the user's info and one for the trip information"
   ]
  },
  {
   "cell_type": "code",
   "execution_count": 67,
   "metadata": {},
   "outputs": [],
   "source": [
    "# create a dataframe for the user's information\n",
    "user_list = ['bike_id', 'user_type', 'member_birth_year', 'member_gender']\n",
    "user = bike[user_list]\n",
    "\n",
    "# create dataframe for the bike trip info\n",
    "trip_list = ['bike_id', 'duration_sec', 'start_time', 'end_time', 'start_station_name', 'end_station_name']\n",
    "trip = bike[trip_list]"
   ]
  },
  {
   "cell_type": "code",
   "execution_count": 68,
   "metadata": {},
   "outputs": [
    {
     "data": {
      "text/html": [
       "<div>\n",
       "<style scoped>\n",
       "    .dataframe tbody tr th:only-of-type {\n",
       "        vertical-align: middle;\n",
       "    }\n",
       "\n",
       "    .dataframe tbody tr th {\n",
       "        vertical-align: top;\n",
       "    }\n",
       "\n",
       "    .dataframe thead th {\n",
       "        text-align: right;\n",
       "    }\n",
       "</style>\n",
       "<table border=\"1\" class=\"dataframe\">\n",
       "  <thead>\n",
       "    <tr style=\"text-align: right;\">\n",
       "      <th></th>\n",
       "      <th>bike_id</th>\n",
       "      <th>user_type</th>\n",
       "      <th>member_birth_year</th>\n",
       "      <th>member_gender</th>\n",
       "    </tr>\n",
       "  </thead>\n",
       "  <tbody>\n",
       "    <tr>\n",
       "      <th>0</th>\n",
       "      <td>4902</td>\n",
       "      <td>Customer</td>\n",
       "      <td>1984.0</td>\n",
       "      <td>Male</td>\n",
       "    </tr>\n",
       "    <tr>\n",
       "      <th>2</th>\n",
       "      <td>5905</td>\n",
       "      <td>Customer</td>\n",
       "      <td>1972.0</td>\n",
       "      <td>Male</td>\n",
       "    </tr>\n",
       "    <tr>\n",
       "      <th>3</th>\n",
       "      <td>6638</td>\n",
       "      <td>Subscriber</td>\n",
       "      <td>1989.0</td>\n",
       "      <td>Other</td>\n",
       "    </tr>\n",
       "    <tr>\n",
       "      <th>4</th>\n",
       "      <td>4898</td>\n",
       "      <td>Subscriber</td>\n",
       "      <td>1974.0</td>\n",
       "      <td>Male</td>\n",
       "    </tr>\n",
       "    <tr>\n",
       "      <th>5</th>\n",
       "      <td>5200</td>\n",
       "      <td>Subscriber</td>\n",
       "      <td>1959.0</td>\n",
       "      <td>Male</td>\n",
       "    </tr>\n",
       "  </tbody>\n",
       "</table>\n",
       "</div>"
      ],
      "text/plain": [
       "   bike_id   user_type  member_birth_year member_gender\n",
       "0     4902    Customer             1984.0          Male\n",
       "2     5905    Customer             1972.0          Male\n",
       "3     6638  Subscriber             1989.0         Other\n",
       "4     4898  Subscriber             1974.0          Male\n",
       "5     5200  Subscriber             1959.0          Male"
      ]
     },
     "execution_count": 68,
     "metadata": {},
     "output_type": "execute_result"
    }
   ],
   "source": [
    "user.head()"
   ]
  },
  {
   "cell_type": "code",
   "execution_count": 69,
   "metadata": {
    "scrolled": true
   },
   "outputs": [
    {
     "data": {
      "text/html": [
       "<div>\n",
       "<style scoped>\n",
       "    .dataframe tbody tr th:only-of-type {\n",
       "        vertical-align: middle;\n",
       "    }\n",
       "\n",
       "    .dataframe tbody tr th {\n",
       "        vertical-align: top;\n",
       "    }\n",
       "\n",
       "    .dataframe thead th {\n",
       "        text-align: right;\n",
       "    }\n",
       "</style>\n",
       "<table border=\"1\" class=\"dataframe\">\n",
       "  <thead>\n",
       "    <tr style=\"text-align: right;\">\n",
       "      <th></th>\n",
       "      <th>bike_id</th>\n",
       "      <th>duration_sec</th>\n",
       "      <th>start_time</th>\n",
       "      <th>end_time</th>\n",
       "      <th>start_station_name</th>\n",
       "      <th>end_station_name</th>\n",
       "    </tr>\n",
       "  </thead>\n",
       "  <tbody>\n",
       "    <tr>\n",
       "      <th>0</th>\n",
       "      <td>4902</td>\n",
       "      <td>52185</td>\n",
       "      <td>2019-02-28 17:32:10.145</td>\n",
       "      <td>2019-03-01 08:01:55.975</td>\n",
       "      <td>Montgomery St BART Station (Market St at 2nd St)</td>\n",
       "      <td>Commercial St at Montgomery St</td>\n",
       "    </tr>\n",
       "    <tr>\n",
       "      <th>2</th>\n",
       "      <td>5905</td>\n",
       "      <td>61854</td>\n",
       "      <td>2019-02-28 12:13:13.218</td>\n",
       "      <td>2019-03-01 05:24:08.146</td>\n",
       "      <td>Market St at Dolores St</td>\n",
       "      <td>Powell St BART Station (Market St at 4th St)</td>\n",
       "    </tr>\n",
       "    <tr>\n",
       "      <th>3</th>\n",
       "      <td>6638</td>\n",
       "      <td>36490</td>\n",
       "      <td>2019-02-28 17:54:26.010</td>\n",
       "      <td>2019-03-01 04:02:36.842</td>\n",
       "      <td>Grove St at Masonic Ave</td>\n",
       "      <td>Central Ave at Fell St</td>\n",
       "    </tr>\n",
       "    <tr>\n",
       "      <th>4</th>\n",
       "      <td>4898</td>\n",
       "      <td>1585</td>\n",
       "      <td>2019-02-28 23:54:18.549</td>\n",
       "      <td>2019-03-01 00:20:44.074</td>\n",
       "      <td>Frank H Ogawa Plaza</td>\n",
       "      <td>10th Ave at E 15th St</td>\n",
       "    </tr>\n",
       "    <tr>\n",
       "      <th>5</th>\n",
       "      <td>5200</td>\n",
       "      <td>1793</td>\n",
       "      <td>2019-02-28 23:49:58.632</td>\n",
       "      <td>2019-03-01 00:19:51.760</td>\n",
       "      <td>4th St at Mission Bay Blvd S</td>\n",
       "      <td>Broadway at Kearny</td>\n",
       "    </tr>\n",
       "  </tbody>\n",
       "</table>\n",
       "</div>"
      ],
      "text/plain": [
       "   bike_id  duration_sec              start_time                end_time  \\\n",
       "0     4902         52185 2019-02-28 17:32:10.145 2019-03-01 08:01:55.975   \n",
       "2     5905         61854 2019-02-28 12:13:13.218 2019-03-01 05:24:08.146   \n",
       "3     6638         36490 2019-02-28 17:54:26.010 2019-03-01 04:02:36.842   \n",
       "4     4898          1585 2019-02-28 23:54:18.549 2019-03-01 00:20:44.074   \n",
       "5     5200          1793 2019-02-28 23:49:58.632 2019-03-01 00:19:51.760   \n",
       "\n",
       "                                 start_station_name  \\\n",
       "0  Montgomery St BART Station (Market St at 2nd St)   \n",
       "2                           Market St at Dolores St   \n",
       "3                           Grove St at Masonic Ave   \n",
       "4                               Frank H Ogawa Plaza   \n",
       "5                      4th St at Mission Bay Blvd S   \n",
       "\n",
       "                               end_station_name  \n",
       "0                Commercial St at Montgomery St  \n",
       "2  Powell St BART Station (Market St at 4th St)  \n",
       "3                        Central Ave at Fell St  \n",
       "4                         10th Ave at E 15th St  \n",
       "5                            Broadway at Kearny  "
      ]
     },
     "execution_count": 69,
     "metadata": {},
     "output_type": "execute_result"
    }
   ],
   "source": [
    "trip.head()"
   ]
  },
  {
   "cell_type": "code",
   "execution_count": 70,
   "metadata": {},
   "outputs": [
    {
     "data": {
      "text/plain": [
       "(174952, 9)"
      ]
     },
     "execution_count": 70,
     "metadata": {},
     "output_type": "execute_result"
    }
   ],
   "source": [
    "bike.shape"
   ]
  },
  {
   "cell_type": "markdown",
   "metadata": {},
   "source": [
    "### What is the structure of your dataset?\n",
    "\n",
    "> Following the wrangling process, there are 174, 952 individual rides to and from different stations with 9 variables describing the features of the each ride. Most variables are numeric occuring in both float and integer types, but strings and date type variables are present as well. \n",
    "I have divided the dataset into two tables to conform with tidiness standards. The `trip` table contains information on the each trip taken with a bike, while the `user` table carries information on the  user for each trip. I also dropped 8, 460 rows with missing values.\n",
    "\n",
    "\n",
    "### What is/are the main feature(s) of interest in your dataset?\n",
    "\n",
    "> I'm most interested in finding out the features that best predict the pattern and rate of use of bikes in the bike share system.\n",
    "\n",
    "### What features in the dataset do you think will help support your investigation into your feature(s) of interest?\n",
    "\n",
    "> Chiefly, I expect that the `duration_sec` measuring bike-journey time from station to station to influence the bike use. Hence, for shorter distances (shorter durations) there should be more bike use.\n",
    "\n",
    "> Similarly, I expect the user type to influence user behavior and rate of bike use. The age and gender could also be indicative of a pattern of usage to some degree."
   ]
  },
  {
   "cell_type": "markdown",
   "metadata": {},
   "source": [
    "## Univariate Exploration <a id=topic3></a>\n",
    "\n",
    "To begin with, I would like to see the distribution of the duration of each use for rides taken"
   ]
  },
  {
   "cell_type": "code",
   "execution_count": 71,
   "metadata": {},
   "outputs": [],
   "source": [
    "plt.rcParams['figure.figsize'] = (7,5)"
   ]
  },
  {
   "cell_type": "code",
   "execution_count": 72,
   "metadata": {},
   "outputs": [
    {
     "data": {
      "image/png": "[encoded data removed]",
      "text/plain": [
       "<Figure size 504x360 with 1 Axes>"
      ]
     },
     "metadata": {
      "needs_background": "light"
     },
     "output_type": "display_data"
    }
   ],
   "source": [
    "bins = np.arange(61, 84548+10, 10)\n",
    "# make a frequency distribution for the durations\n",
    "plt.hist(data = trip, x= 'duration_sec', bins=bins)\n",
    "plt.xlabel('Duration (seconds)');"
   ]
  },
  {
   "cell_type": "markdown",
   "metadata": {},
   "source": [
    "From the above plot, it is difficult to observe changes in both shorter durations and longer ones alike. Hence, I'll perform an axis transformation to capture these values."
   ]
  },
  {
   "cell_type": "code",
   "execution_count": null,
   "metadata": {},
   "outputs": [],
   "source": [
    "bins = np.arange(61, 84548+20, 20)\n",
    "ticks = [30, 100, 300, 1e3, 3e3, 1e4, 3e4, 1e5]\n",
    "tick_text = ['30', '100', '300', '1K', '3K', '10K', '30K', '100K']\n",
    "plt.hist(data = trip, x= 'duration_sec', bins=bins)\n",
    "plt.xscale('log')\n",
    "plt.xlabel('Duration (seconds)')\n",
    "plt.xticks(ticks, tick_text);"
   ]
  },
  {
   "cell_type": "markdown",
   "metadata": {},
   "source": [
    "With the log scale on the x axis, the distribution is more clearly shown. The graph looks unimodal and has most of the duration in lower ranges, mostly below 1000 seconds. It presents a skew to the right, however, there is still a tail that trails higher values further. As a result, outliers are expected to the far right of the graph including the maximum value of 84548 seconds seen earlier. I strongly expect this to be the major outlier since the duration at the 75th percentile was only 789 seconds.\n",
    "\n",
    "\n",
    "Next, I'm interested in how much difference there is usage of bikes based on gender."
   ]
  },
  {
   "cell_type": "code",
   "execution_count": null,
   "metadata": {},
   "outputs": [],
   "source": [
    "colour = sns.color_palette()[0]\n",
    "sns.countplot(data = user, x= 'member_gender', order = user.member_gender.value_counts().index, color = colour);"
   ]
  },
  {
   "cell_type": "markdown",
   "metadata": {},
   "source": [
    "It is apparent that males had a lot more use of the bikes than females.\n",
    "\n",
    "However, some users were subscribers while others were customers. I'd like to know who had more use of the bikes."
   ]
  },
  {
   "cell_type": "code",
   "execution_count": null,
   "metadata": {},
   "outputs": [],
   "source": [
    "# values = \n",
    "sns.countplot(data = user, x='user_type', color = colour, order = user.user_type.value_counts().index);"
   ]
  },
  {
   "cell_type": "markdown",
   "metadata": {},
   "source": [
    "Subscribers expectedly had a much greater use for the bikes than the Customers.\n",
    "\n",
    "Now, I'll turn to compare how the rides were distibuted across the days and months in that year. Were there any notable variations?"
   ]
  },
  {
   "cell_type": "code",
   "execution_count": null,
   "metadata": {},
   "outputs": [],
   "source": [
    "trip.head()"
   ]
  },
  {
   "cell_type": "code",
   "execution_count": null,
   "metadata": {},
   "outputs": [],
   "source": [
    "# first, create columns to record the day and month names for each ride from start_time column\n",
    "trip['day_name'] = trip.start_time.dt.day_name()\n",
    "trip['month_name'] = trip.start_time.dt.month_name()\n",
    "\n",
    "# next, order the day_name and month_name columns in categorical format\n",
    "day_order = ['Monday', 'Tuesday', 'Wednesday', 'Thursday', 'Friday', 'Saturday', 'Sunday']\n",
    "month_order = ['January', 'February', 'March', 'April', 'May', 'June', 'July', 'August', 'September', 'October', 'November', 'December']\n",
    "def make_category(df, ordering):\n",
    "    '''quick function to make order for ordinal categorical variables'''\n",
    "    set_order = pd.api.types.CategoricalDtype(ordered=True, categories=ordering)\n",
    "    return df.astype(set_order)\n",
    "trip.day_name = make_category(trip.day_name, day_order)\n",
    "trip.month_name = make_category(trip.month_name, month_order)"
   ]
  },
  {
   "cell_type": "code",
   "execution_count": null,
   "metadata": {
    "scrolled": true
   },
   "outputs": [],
   "source": [
    "# Now, visualise the distribution across the days of the week\n",
    "sns.countplot(data=trip, x='day_name', color=colour)\n",
    "plt.xlabel('Day')\n",
    "plt.ylabel('Count')\n",
    "plt.title('Amount of rides per Day');"
   ]
  },
  {
   "cell_type": "markdown",
   "metadata": {},
   "source": [
    "Here the use of the bikes per day seemed fairly even across the week days, however, it fell drastically on the weekends. This is indicative that there are less people moving between train stations making use of bike share systemon weekends.\n",
    "\n",
    "#### For distribution by month:"
   ]
  },
  {
   "cell_type": "code",
   "execution_count": null,
   "metadata": {},
   "outputs": [],
   "source": [
    "# only recordings for the month of February were contained in the dataset.\n",
    "trip.month_name.value_counts()"
   ]
  },
  {
   "cell_type": "markdown",
   "metadata": {},
   "source": [
    "Here, only records for the month of February were contained in the dataset.\n",
    "\n",
    "Now I'd like to know the most frequent start stations, end stations and start to end trip combination."
   ]
  },
  {
   "cell_type": "code",
   "execution_count": null,
   "metadata": {},
   "outputs": [],
   "source": [
    "# obtain the most frequent start stations\n",
    "start_stations = trip.start_station_name.value_counts(ascending=True).tail()\n",
    "\n",
    "# make a plot depicting the information\n",
    "start_stations.plot(kind='barh')\n",
    "plt.xlabel('Count')\n",
    "plt.ylabel('Station')\n",
    "plt.title('Most Frequent Start Stations')\n",
    "plt.xticks(rotation=90);"
   ]
  },
  {
   "cell_type": "code",
   "execution_count": null,
   "metadata": {},
   "outputs": [],
   "source": [
    "# obtain the most frequent end stations\n",
    "end_stations = trip.end_station_name.value_counts(ascending=True).tail()\n",
    "\n",
    "# make a plot depicting the information\n",
    "end_stations.plot(kind='barh')\n",
    "plt.xlabel('Count')\n",
    "plt.ylabel('Station')\n",
    "plt.title('Most Frequent End Stations');"
   ]
  },
  {
   "cell_type": "markdown",
   "metadata": {},
   "source": [
    "I've created this plot since its often beneficial to know where most of the user are headed off to and from where. It's also interesting to see that almost all of the 5 most frequent start stations are also some of the most frequent end stations.\n",
    "\n",
    "What's more interesting however, will be to find out the most common route taken between stations. I'll like to see what the most frequent combination of start and end destination was."
   ]
  },
  {
   "cell_type": "code",
   "execution_count": null,
   "metadata": {},
   "outputs": [],
   "source": [
    "# fins the most frequent combination of start and end destinations\n",
    "combo = trip.groupby(['start_station_name', 'end_station_name']).size().nlargest(1)\n",
    "combo"
   ]
  },
  {
   "cell_type": "markdown",
   "metadata": {},
   "source": [
    "The most frequent start and end destinations were from *`Berry St at 4th St`* to *`San Francisco Ferry Building (Harry Bridges Plaza)`* with 327 trips.\n",
    "\n",
    "Since we've considered the peak day, I'll look at the distribution of usage by hour across all days. What was the peak hour and were there other close peaks?"
   ]
  },
  {
   "cell_type": "code",
   "execution_count": null,
   "metadata": {},
   "outputs": [],
   "source": [
    "trip['hour'] = trip.start_time.dt.hour\n",
    "x_tick = np.arange(0, 25, 3)\n",
    "plt.hist(trip.hour, bins=26)\n",
    "plt.xticks(x_tick, x_tick)\n",
    "plt.xlabel('Hour of Day')\n",
    "plt.ylabel('Count');"
   ]
  },
  {
   "cell_type": "markdown",
   "metadata": {},
   "source": [
    "The distribution of the hours of use takes a bimodal form. The first peak is around the 8th, while the next peak a little at the 17th hour. My first indication would be pointing to office workers commuting to work, but I'll perfomr further investigations to solidify my inference.\n",
    "\n",
    "Finally, age could be a factor influencing the use of bikes and I'd like to know exactly how."
   ]
  },
  {
   "cell_type": "code",
   "execution_count": 51,
   "metadata": {},
   "outputs": [
    {
     "ename": "AttributeError",
     "evalue": "'DataFrame' object has no attribute 'member_birth_year'",
     "output_type": "error",
     "traceback": [
      "\u001b[1;31m---------------------------------------------------------------------------\u001b[0m",
      "\u001b[1;31mAttributeError\u001b[0m                            Traceback (most recent call last)",
      "\u001b[1;32m~\\AppData\\Local\\Temp/ipykernel_10068/2454267954.py\u001b[0m in \u001b[0;36m<module>\u001b[1;34m\u001b[0m\n\u001b[0;32m      1\u001b[0m \u001b[1;31m# calculate age of each user at time of usage\u001b[0m\u001b[1;33m\u001b[0m\u001b[1;33m\u001b[0m\u001b[0m\n\u001b[1;32m----> 2\u001b[1;33m \u001b[0muser_age\u001b[0m \u001b[1;33m=\u001b[0m \u001b[0mtrip\u001b[0m\u001b[1;33m.\u001b[0m\u001b[0mstart_time\u001b[0m\u001b[1;33m.\u001b[0m\u001b[0mdt\u001b[0m\u001b[1;33m.\u001b[0m\u001b[0myear\u001b[0m\u001b[1;33m.\u001b[0m\u001b[0munique\u001b[0m\u001b[1;33m(\u001b[0m\u001b[1;33m)\u001b[0m\u001b[1;33m[\u001b[0m\u001b[1;36m0\u001b[0m\u001b[1;33m]\u001b[0m \u001b[1;33m-\u001b[0m  \u001b[0muser\u001b[0m\u001b[1;33m.\u001b[0m\u001b[0mmember_birth_year\u001b[0m\u001b[1;33m\u001b[0m\u001b[1;33m\u001b[0m\u001b[0m\n\u001b[0m\u001b[0;32m      3\u001b[0m \u001b[1;33m\u001b[0m\u001b[0m\n\u001b[0;32m      4\u001b[0m \u001b[1;31m# add the user_age series as a column in the user dataframe\u001b[0m\u001b[1;33m\u001b[0m\u001b[1;33m\u001b[0m\u001b[0m\n\u001b[0;32m      5\u001b[0m \u001b[0muser\u001b[0m\u001b[1;33m.\u001b[0m\u001b[0mloc\u001b[0m\u001b[1;33m[\u001b[0m\u001b[1;34m'age'\u001b[0m\u001b[1;33m]\u001b[0m \u001b[1;33m=\u001b[0m \u001b[0muser_age\u001b[0m\u001b[1;33m\u001b[0m\u001b[1;33m\u001b[0m\u001b[0m\n",
      "\u001b[1;32m~\\anaconda3\\lib\\site-packages\\pandas\\core\\generic.py\u001b[0m in \u001b[0;36m__getattr__\u001b[1;34m(self, name)\u001b[0m\n\u001b[0;32m   5573\u001b[0m         ):\n\u001b[0;32m   5574\u001b[0m             \u001b[1;32mreturn\u001b[0m \u001b[0mself\u001b[0m\u001b[1;33m[\u001b[0m\u001b[0mname\u001b[0m\u001b[1;33m]\u001b[0m\u001b[1;33m\u001b[0m\u001b[1;33m\u001b[0m\u001b[0m\n\u001b[1;32m-> 5575\u001b[1;33m         \u001b[1;32mreturn\u001b[0m \u001b[0mobject\u001b[0m\u001b[1;33m.\u001b[0m\u001b[0m__getattribute__\u001b[0m\u001b[1;33m(\u001b[0m\u001b[0mself\u001b[0m\u001b[1;33m,\u001b[0m \u001b[0mname\u001b[0m\u001b[1;33m)\u001b[0m\u001b[1;33m\u001b[0m\u001b[1;33m\u001b[0m\u001b[0m\n\u001b[0m\u001b[0;32m   5576\u001b[0m \u001b[1;33m\u001b[0m\u001b[0m\n\u001b[0;32m   5577\u001b[0m     \u001b[1;32mdef\u001b[0m \u001b[0m__setattr__\u001b[0m\u001b[1;33m(\u001b[0m\u001b[0mself\u001b[0m\u001b[1;33m,\u001b[0m \u001b[0mname\u001b[0m\u001b[1;33m:\u001b[0m \u001b[0mstr\u001b[0m\u001b[1;33m,\u001b[0m \u001b[0mvalue\u001b[0m\u001b[1;33m)\u001b[0m \u001b[1;33m->\u001b[0m \u001b[1;32mNone\u001b[0m\u001b[1;33m:\u001b[0m\u001b[1;33m\u001b[0m\u001b[1;33m\u001b[0m\u001b[0m\n",
      "\u001b[1;31mAttributeError\u001b[0m: 'DataFrame' object has no attribute 'member_birth_year'"
     ]
    }
   ],
   "source": [
    "# calculate age of each user at time of usage\n",
    "user_age = trip.start_time.dt.year.unique()[0] -  user.member_birth_year \n",
    "\n",
    "# add the user_age series as a column in the user dataframe\n",
    "user.loc['age'] = user_age\n",
    "\n",
    "# drop the birth_year column for tidiness\n",
    "user.drop(columns=['member_birth_year'], inplace=True)"
   ]
  },
  {
   "cell_type": "code",
   "execution_count": 34,
   "metadata": {},
   "outputs": [
    {
     "data": {
      "image/png": "[encoded data removed]",
      "text/plain": [
       "<Figure size 504x360 with 1 Axes>"
      ]
     },
     "metadata": {
      "needs_background": "light"
     },
     "output_type": "display_data"
    }
   ],
   "source": [
    "# Extract customers who specified their birth years\n",
    "df = user[user.age.notnull()]\n",
    "\n",
    "# visualise the age distributions \n",
    "bins = np.arange(df.age.min(), df.age.max()+2, 2)\n",
    "plt.hist(data = df, x='age', bins =50)\n",
    "plt.xlabel('age')\n",
    "sns.despine();"
   ]
  },
  {
   "cell_type": "markdown",
   "metadata": {},
   "source": [
    "The age distibution looks unimodal and skewed to the right. This shows us that most users were younger and between ages 20 and 40. Use of bikes in the program steadily declined with users above 40. There is also the presence of outliers in the far right, suggesting very old users."
   ]
  },
  {
   "cell_type": "markdown",
   "metadata": {},
   "source": [
    "### Discuss the distribution(s) of your variable(s) of interest. Were there any unusual points? Did you need to perform any transformations?\n",
    "\n",
    "> The range of values for the duration of use were largely spread out. I performed a log transformation on the data to capture the frequency of occurrence at both small durations and larger ones. Under the transformation, the distriution appeared to be unimodal with a peak around 300 seconds. \n",
    "\n",
    "### Of the features you investigated, were there any unusual distributions? Did you perform any operations on the data to tidy, adjust, or change the form of the data? If so, why did you do this?\n",
    "\n",
    "> During investigation of both the duration and age variables, a few outliers were noted. For the age however, I derived the age column using the difference between the pre-specified users' birth year and when they used the bike (2019). I made my visualisation using this age variable to get a more comprehendable age distribution and not their birth years."
   ]
  },
  {
   "cell_type": "markdown",
   "metadata": {},
   "source": [
    "## Bivariate Exploration <a id=topic4></a>\n",
    "\n",
    "> First, it's interesting to figure out how the duration relates with the age of the user. Typically, I would expect younger users to ride longer periods. Do they?"
   ]
  },
  {
   "cell_type": "code",
   "execution_count": 35,
   "metadata": {},
   "outputs": [
    {
     "data": {
      "image/png": "[encoded data removed]",
      "text/plain": [
       "<Figure size 504x360 with 1 Axes>"
      ]
     },
     "metadata": {
      "needs_background": "light"
     },
     "output_type": "display_data"
    }
   ],
   "source": [
    "plt.scatter(x=user.age, y=trip.duration_sec, alpha=0.35)\n",
    "plt.xlabel('Age (years)')\n",
    "plt.ylabel('Duration (seconds)');"
   ]
  },
  {
   "cell_type": "markdown",
   "metadata": {},
   "source": [
    "As expected, the plot above shows that the riding duration was highest for younger users. This was particularly the case for users less than 40 years. We can notice a build up of over plotted points between ages 20 to 60, and then many other outliers representing higher durations. However, there is a very weeak correlation between the age and duration. \n",
    "\n",
    "Onward, I'd also like to see how long *Subscribers* rode the bikes compared to *Customers* overall."
   ]
  },
  {
   "cell_type": "code",
   "execution_count": 36,
   "metadata": {},
   "outputs": [
    {
     "data": {
      "image/png": "[encoded data removed]",
      "text/plain": [
       "<Figure size 504x360 with 1 Axes>"
      ]
     },
     "metadata": {
      "needs_background": "light"
     },
     "output_type": "display_data"
    }
   ],
   "source": [
    "# obtain the total numner of users in each type\n",
    "user_num = user.user_type.value_counts()\n",
    "\n",
    "# create a new table joining the users and the duration from previous tables \n",
    "user_duration = user[['user_type']]\n",
    "user_duration = user_duration.join(trip.duration_sec)\n",
    "duration_num = user_duration.groupby('user_type').sum()\n",
    "duration_num = duration_num.duration_sec.sort_values(ascending = False)\n",
    "\n",
    "# make a plot of the total duration for each user type\n",
    "plt.bar(x = duration_num.index, height= duration_num.values)\n",
    "plt.ylabel('Duration (seconds x 1e8)'); "
   ]
  },
  {
   "cell_type": "markdown",
   "metadata": {},
   "source": [
    "From the above comparison, Subscribers clearly have a longer total duration than Customers. However, this could be attributed to the higher population of subscribers in the dataset. To validate, I'll calculate the average duration for each user type."
   ]
  },
  {
   "cell_type": "code",
   "execution_count": 37,
   "metadata": {
    "scrolled": true
   },
   "outputs": [
    {
     "data": {
      "image/png": "[encoded data removed]",
      "text/plain": [
       "<Figure size 504x360 with 1 Axes>"
      ]
     },
     "metadata": {
      "needs_background": "light"
     },
     "output_type": "display_data"
    }
   ],
   "source": [
    "# use a barplot to show mean duration for each user type\n",
    "sns.barplot(x=user.user_type, y=trip.duration_sec, color=colour);"
   ]
  },
  {
   "cell_type": "markdown",
   "metadata": {},
   "source": [
    "A simple bar plot shows the mean duration (seconds) covered by each user type. It's pronounced that Customers had more ride-time on average than Subcribers. This is a bit unexpected since Subcribers from our earlier plot were more populated than Customers by headcount. However, the error bar on the Customer barplot suggests the presence of large values in duration that may influence the mean. This suggest that more Subscribers weren't intensively taking long durations trips compared to the Customers.\n"
   ]
  },
  {
   "cell_type": "markdown",
   "metadata": {},
   "source": [
    "Earlier, the histogram distribution of usage across the hours of the day showed two peaks around the 8th and 17th hours, and I speculated they could be due to workers commuting. To increase confidence, I would like to see if Subscriber used the bikes more around this period. (Routine need for the service could be a factor responsible for their subscription)."
   ]
  },
  {
   "cell_type": "code",
   "execution_count": 38,
   "metadata": {
    "scrolled": true
   },
   "outputs": [
    {
     "data": {
      "image/png": "[encoded data removed]",
      "text/plain": [
       "<Figure size 504x360 with 1 Axes>"
      ]
     },
     "metadata": {
      "needs_background": "light"
     },
     "output_type": "display_data"
    }
   ],
   "source": [
    "df = pd.DataFrame(user['user_type']).join(pd.DataFrame(trip.hour))\n",
    "sns.violinplot(data = df, x='user_type', y='hour', color=colour);"
   ]
  },
  {
   "cell_type": "markdown",
   "metadata": {},
   "source": [
    "The violinplot for Subscribers show the peaks earlier observed around the 8th and 17th hours repectively. The rate of use is fairly low for most other periods but these two. For Customers however, there is also increased activity around the peak hours as well but not comparable to the Subscriber group. I'll eneunciate this difference using a Facted Grid plot."
   ]
  },
  {
   "cell_type": "code",
   "execution_count": 39,
   "metadata": {},
   "outputs": [
    {
     "data": {
      "image/png": "[encoded data removed]",
      "text/plain": [
       "<Figure size 576x288 with 2 Axes>"
      ]
     },
     "metadata": {
      "needs_background": "light"
     },
     "output_type": "display_data"
    }
   ],
   "source": [
    "grid = sns.FacetGrid(data=df, col='user_type', height=4)\n",
    "grid.map(plt.hist, 'hour', bins=26)\n",
    "grid.set_titles('{col_name}');"
   ]
  },
  {
   "cell_type": "markdown",
   "metadata": {},
   "source": [
    "The histogram for Subscribers is explicitly bimodal showing the two peak periods. On the other hand, Customers have a fairly evenly distributed plot.\n",
    "It becomes clearer that Subcribers have a greater amount of recorded use than Customers by the peak hours.\n",
    "\n",
    "Moving on, I suspect gender may have a benign effect on users' choice to use the bike service. How do the different gender groups compare?"
   ]
  },
  {
   "cell_type": "code",
   "execution_count": 40,
   "metadata": {},
   "outputs": [
    {
     "data": {
      "image/png": "[encoded data removed]",
      "text/plain": [
       "<Figure size 504x360 with 1 Axes>"
      ]
     },
     "metadata": {
      "needs_background": "light"
     },
     "output_type": "display_data"
    }
   ],
   "source": [
    "# make a plot to visualise number of user types for each gender\n",
    "sns.countplot(data = user, x = 'member_gender', hue='user_type', order = user.member_gender.value_counts().index)\n",
    "plt.title('Gender Distribution Among Users');"
   ]
  },
  {
   "cell_type": "markdown",
   "metadata": {},
   "source": [
    "It is clear that more males chose to subscribe than any other gender. But I would also like to do a comparative anaysis of what proportion of each gender subscribed."
   ]
  },
  {
   "cell_type": "code",
   "execution_count": 41,
   "metadata": {},
   "outputs": [
    {
     "data": {
      "text/plain": [
       "member_gender  user_type \n",
       "Female         Customer        4623\n",
       "               Subscriber     36182\n",
       "Male           Customer       11493\n",
       "               Subscriber    119007\n",
       "Other          Customer         450\n",
       "               Subscriber      3197\n",
       "Name: age, dtype: int64"
      ]
     },
     "execution_count": 41,
     "metadata": {},
     "output_type": "execute_result"
    }
   ],
   "source": [
    "subdata = user.groupby(['member_gender','user_type']).count()['age']\n",
    "subdata"
   ]
  },
  {
   "cell_type": "code",
   "execution_count": 42,
   "metadata": {},
   "outputs": [],
   "source": [
    "total = user.member_gender.value_counts()\n",
    "# obtain the number of Subcribers for each gender\n",
    "subdata = user.groupby(['member_gender','user_type']).size()\n",
    "\n",
    "# loop through the different genders and create list for proportion of subscribers for each\n",
    "gender = ['Male', 'Female', 'Other']\n",
    "sub_prop = []\n",
    "for name in gender:\n",
    "    sub_prop.append(subdata[name]['Subscriber']/total[name])"
   ]
  },
  {
   "cell_type": "code",
   "execution_count": 43,
   "metadata": {},
   "outputs": [
    {
     "data": {
      "image/png": "[encoded data removed]",
      "text/plain": [
       "<Figure size 504x360 with 1 Axes>"
      ]
     },
     "metadata": {
      "needs_background": "light"
     },
     "output_type": "display_data"
    }
   ],
   "source": [
    "# make a plot to show the proportions of sucscriptions\n",
    "plt.bar(x=gender, height=sub_prop)\n",
    "plt.xlabel('Gender')\n",
    "plt.ylabel('Proportion')\n",
    "plt.title('Proportion of Subscribers by Gender');"
   ]
  },
  {
   "cell_type": "markdown",
   "metadata": {},
   "source": [
    "Males had a slightly higher subscription rate than the other genders. However, it is evident that although Males had a higher population, their rate of subscription compared similarly to other two genders.\n",
    "\n",
    "Now, I would like to know if age was a factor affecting subscription."
   ]
  },
  {
   "cell_type": "code",
   "execution_count": 44,
   "metadata": {},
   "outputs": [
    {
     "data": {
      "image/png": "[encoded data removed]",
      "text/plain": [
       "<Figure size 576x288 with 2 Axes>"
      ]
     },
     "metadata": {
      "needs_background": "light"
     },
     "output_type": "display_data"
    }
   ],
   "source": [
    "bins = np.arange(14, 141+5, 5)\n",
    "grid = sns.FacetGrid(data=user, col='user_type', height=4)\n",
    "grid.map(plt.hist, 'age', bins=bins)\n",
    "grid.set_titles('{col_name}')\n",
    "grid.set(xlim=(10, 100))\n",
    "plt.suptitle('Age Distribution among User Types', x=0.5, y=1.1);"
   ]
  },
  {
   "cell_type": "markdown",
   "metadata": {},
   "source": [
    "The age as a factor seemed to  affect the general use of the bike share system. I have set the X axis to a smaller limit to zoom in on the main detail. As shown in the chart, more *Subscribers* as well as *Customers* were younger by age. There were few people older than 60 who were Subscribers and Customers alike. Both charts are right skewed which shows a similar decrease in frequency as age increased for both categories. Thus, neither is more favored by the age of users.\n",
    "\n",
    "\n",
    "Wraping up, I would like to investigate if there is an unsual pattern in days the bikes are used by users based on their type."
   ]
  },
  {
   "cell_type": "code",
   "execution_count": 45,
   "metadata": {},
   "outputs": [
    {
     "data": {
      "image/png": "[encoded data removed]",
      "text/plain": [
       "<Figure size 504x360 with 1 Axes>"
      ]
     },
     "metadata": {
      "needs_background": "light"
     },
     "output_type": "display_data"
    }
   ],
   "source": [
    "user_day = trip[['day_name']]\n",
    "user_day = user_day.join(user.user_type)\n",
    "sns.countplot(data=user_day, x='day_name', hue='user_type')\n",
    "plt.title('Daily use for User types');"
   ]
  },
  {
   "cell_type": "markdown",
   "metadata": {},
   "source": [
    "There was a slight rise in the use on thursdays for both Subscribers and Customers. Beside that, the pattern remained generally similar for user types. However, Subscribers were clearly more active during week days with a peak on Thursdays, followed by Tuesday. However, bike use on the weekends was particularly low among subscribers which could indicate that most Subscribers were more frequent user like Office workers commuting.\n",
    "\n",
    "To look a little into this, I'll inspect how age played on the different days of the week (juxtaposing working ages)."
   ]
  },
  {
   "cell_type": "code",
   "execution_count": 46,
   "metadata": {},
   "outputs": [
    {
     "data": {
      "image/png": "[encoded data removed]",
      "text/plain": [
       "<Figure size 864x432 with 7 Axes>"
      ]
     },
     "metadata": {
      "needs_background": "light"
     },
     "output_type": "display_data"
    }
   ],
   "source": [
    "user_day = trip[['day_name']]\n",
    "user_day = user_day.join(user.age)\n",
    "grid = sns.FacetGrid(data =user_day, col='day_name', col_wrap=4)\n",
    "grid.map(plt.hist, 'age', bins=20);"
   ]
  },
  {
   "cell_type": "markdown",
   "metadata": {},
   "source": [
    "A look at the working age range reveals that the most use was within this range (between 25 and 50). It backs my expectation that most users could possibly fit into job roles. There is also a noticeable decline in bike use for users within this age range."
   ]
  },
  {
   "cell_type": "markdown",
   "metadata": {},
   "source": [
    "### Talk about some of the relationships you observed in this part of the investigation. How did the feature(s) of interest vary with other features in the dataset?\n",
    "\n",
    "> There was a very weak correlation between the age of the users and the duration of the rides they took. However, I intuitively expected the younger riders to take loger rides than older people which was the case. Something unexpected though was that **Customers** who had a lesser population than **Subscribers** had longer durations of usage. Similarly, among the **Genders**, *Males* dominated the user population by head count, yet considering the proportion of subscribed Males, they were only marginally above the other two gender groups (Female and Others).\n",
    "\n",
    "### Did you observe any interesting relationships between the other features (not the main feature(s) of interest)?\n",
    "\n",
    "> An expected relationship was found between the **age** variable and the **duration** of bike use per ride, however, the impact of age on subscription rates was that young people were majorly the users both Subscribed and Customers. Also, the **day** of the week with the most active use was *Thursday* among both subcribed users and other customers. While the weekends saw a rather relaxed engagement from Subscribers, Customers' use remained fairly stable each day."
   ]
  },
  {
   "cell_type": "markdown",
   "metadata": {},
   "source": [
    "## Multivariate Exploration <a id=topic5></a>\n",
    "\n",
    "> Create plots of three or more variables to investigate your data even\n",
    "further. Make sure that your investigations are justified, and follow from\n",
    "your work in the previous sections."
   ]
  },
  {
   "cell_type": "markdown",
   "metadata": {},
   "source": [
    "My exploration focus for this part covers how bike use is affected by the time of day, day of week, the user type and the duration of ride.\n",
    "\n",
    "First, I'll consider the effect of the peak hours on different user groups on the days of the week."
   ]
  },
  {
   "cell_type": "code",
   "execution_count": 47,
   "metadata": {},
   "outputs": [
    {
     "data": {
      "image/png": "[encoded data removed]",
      "text/plain": [
       "<Figure size 1008x504 with 1 Axes>"
      ]
     },
     "metadata": {
      "needs_background": "light"
     },
     "output_type": "display_data"
    }
   ],
   "source": [
    "plt.figure(figsize=(14,7))\n",
    "df = trip[['day_name', 'hour']].join(user.user_type)\n",
    "\n",
    "sns.violinplot(data = df, x='day_name', y='hour', hue='user_type');"
   ]
  },
  {
   "cell_type": "markdown",
   "metadata": {},
   "source": [
    "Firstly, we still notice that Subscribers have more utility for the bike during the peak hours particularly on week days. Although Customers share a similar pattern of use, it is more pronounced among subscribers. During the weekends, the rate declines and the pattern changes, the most use comes just once toward the evening at about the 15th hour.\n",
    "\n",
    "Sicnce users are affected by hour of the day, I'd like to see how the duration of rides relate to user types and different week days. Are there days where people go farther or is the pattern uniform for both user types?"
   ]
  },
  {
   "cell_type": "code",
   "execution_count": 48,
   "metadata": {},
   "outputs": [
    {
     "data": {
      "image/png": "[encoded data removed]",
      "text/plain": [
       "<Figure size 1008x432 with 2 Axes>"
      ]
     },
     "metadata": {
      "needs_background": "light"
     },
     "output_type": "display_data"
    }
   ],
   "source": [
    "# create categories for the duration variable\n",
    "# bin size between ranges from the minimun duration, through the first, third and fourth quartile\n",
    "minimum = trip.duration_sec.min()\n",
    "median = trip.duration_sec.quantile(0.25)\n",
    "quartile_3 = trip.duration_sec.quantile(0.75)\n",
    "maximum = trip.duration_sec.max()\n",
    "bin_size = [minimum, median, quartile_3, maximum]\n",
    "label = ['Short', 'Medium', 'Long']\n",
    "aband = trip.duration_sec.dropna()\n",
    "trip['timing'] = pd.cut(aband, bins=bin_size, labels=label)\n",
    "\n",
    "# create a sub-dataframe for the variabels to plot\n",
    "df = trip[['day_name', 'timing']].join(user.user_type)\n",
    "\n",
    "# create the plots for each user type\n",
    "plt.figure(figsize=(14,6))\n",
    "users = ['Subscriber', 'Customer']\n",
    "for num in range(len(users)):\n",
    "    subdata = df[df.user_type == users[num]]\n",
    "    plt.subplot(1,2,num+1)\n",
    "    sns.countplot(data = subdata, x='day_name', hue='timing', palette='Blues')\n",
    "    plt.xticks(rotation=30)\n",
    "    plt.title(users[num])\n",
    "    plt.legend(title='Duration')\n",
    "    plt.ylim(0,16500);"
   ]
  },
  {
   "cell_type": "markdown",
   "metadata": {},
   "source": [
    "The duration of trips among the Subscriber and Customers on different days are clearly distinctive but siilar within each user-type group. I have grouped the trip durations into Short, Medium and Long categories in the following order\n",
    "- Miniumum duration to first quartile = `Short`\n",
    "- First Quartile to third quartile = `Medium`\n",
    "- Third quartile to maximum duration = `Long`\n",
    "\n",
    "While more Subscribers used the service for short and medium durations, Customers where more invested in longer duration trips. \n",
    "\n",
    "Also, Subscribers had lower use over the wekends than during weekdays but this was slightly different for Customers with higher use toward the weekend. For Customers also, weekends had the most long-duration trips with Sunday topping the chart. Similarly, short duration trips were also lowest on Sunday and Saturday for Customers. \n",
    "\n",
    "Since it is a little difficult to make out the exact proportions of bars on the scale above for customers, I plotted the same graph for only Customers this time on its own scale below."
   ]
  },
  {
   "cell_type": "code",
   "execution_count": 49,
   "metadata": {},
   "outputs": [
    {
     "data": {
      "image/png": "[encoded data removed]",
      "text/plain": [
       "<Figure size 576x432 with 1 Axes>"
      ]
     },
     "metadata": {
      "needs_background": "light"
     },
     "output_type": "display_data"
    }
   ],
   "source": [
    "plt.figure(figsize=(8,6))\n",
    "subdata = df[df.user_type == 'Customer']\n",
    "sns.countplot(data = subdata, x='day_name', hue='timing', palette='Blues')\n",
    "plt.xticks(rotation=30)\n",
    "plt.title(users[num])\n",
    "plt.legend(title='Duration');"
   ]
  },
  {
   "cell_type": "markdown",
   "metadata": {},
   "source": [
    "Now it is clearer the number of rides and their durations on diferent days of the week."
   ]
  },
  {
   "cell_type": "markdown",
   "metadata": {},
   "source": [
    "### Talk about some of the relationships you observed in this part of the investigation. Were there features that strengthened each other in terms of looking at your feature(s) of interest?\n",
    "\n",
    "> This part of my exploration focused on how bike use was affected by the time of day, day of week, the user type and the duration of ride. It was made clear that both Subscribers and Customers had similar use patterns for the hours of the day though the week. However, While the usage pattern was similar by the hour, the duration of trips were different among the user types. Customers were shown to take longer trips than Subscribers through out the week, and though the Subscriber had more trips in general, Customer trips were mostly longer in nature by duration.\n",
    "\n",
    "### Were there any interesting or surprising interactions between features?\n",
    "\n",
    "> While Customers (user type) were mostly interested in medium and long duration trips (particularly long), Subscribers were more engaged with short and medium trip durations."
   ]
  },
  {
   "cell_type": "markdown",
   "metadata": {},
   "source": [
    "## Conclusions <a id=topic6></a>\n",
    ">You can write a summary of the main findings and reflect on the steps taken during the data exploration.\n",
    "\n",
    "In my exploration, I found that the general trend in usage of the bike share system was largely predicated on the user-type. As such, Customers generally took longer duration trips than Subscribers. This was initially surprising for Customers to have longer average trip durations than Subscribers, but further analysis revealed that Subscribers were mostly using the service particularly for shorter durations than Customers. \n",
    "To obtain this relationship, I grouped the durations into Short, Medium, and Long trips in the following order:\n",
    "\n",
    "- Miniumum duration to first quartile = `Short`\n",
    "- First Quartile to third quartile = `Medium`\n",
    "- Third quartile to maximum duration = `Long`\n",
    "\n",
    "Furthermore, I found that the peak periods of use varied by day of the week and time of the day, with more Subscribers using the service around the 8th and 17th hour on weekdays but not weekends. Customers however, had a smilar pattern by the hours of each day, but the distribution was more uniform over the hours of the day. This was because Customers had slightly more use during off-peak hours on those weekdays. In my analysis of bike use by the genders, I discovered the Males had a predominant population, but had a similar proportion of subscribed users only marginally higher than Females and the Other genders. \n",
    "\n",
    "Outside the main variables of interest, I also discovered that Thursday had the most trips taken, also, the most visted start and end stations were `Market St at 10th St` and `San Francisco Caltrain Station 2  (Townsend St at 4th St)` respectively.\n",
    "Similarly, I found that most users folowed the route from `Berry St at 4th St` to `San Francisco Ferry Building (Harry Bridges Plaza)` stations, as it was the most frequent trip taken (Start to end).\n",
    "\n",
    "In summary, here's a walkthrough to highlight analysis and exploration steps and outcome on the bike share system in the Bay area of San Fransisco:\n",
    "\n",
    "> I found the population of Gender groups using the bikes. A greater population of users were `Males` among the gender groups and `Subscribers` among the user types. Despite the population by head count, the proportion of Subscribed users in each gender was very comparatively similar. \n",
    "\n",
    "> I investigated the peak periods over the week in days and hour of day as well. `Thursday` was the most active day in the week for use of the service, and `Customers` had longer trip durations on average than the Subscibers. Also, peak hours across the week was usually around the 8th hour and the 17th on week days, with the 17th being the busiest hour. Weekends on the other hand had lower activity at those times. \n",
    "\n",
    "\n",
    "> While `Market St at 10th St` was the most frequent Start Station for users, `San Francisco Caltrain Station 2  (Townsend St at 4th St)` was the most frequent end station. Similarly, moving from `Berry St at 4th St` to `San Francisco Ferry Building (Harry Bridges Plaza)` was the most frequent route taken by users.\n",
    "\n",
    "> I evealuated the imact of age of choice of Subscription and trip durations. Younger users were revealed to have more trip durations than older ones, however, `age` had no direct effect on whether users subscribed or not. \n",
    "\n",
    "> Eventually, the analysis uncovered the surprising relationship between the user type, trip duration and day of week. While Subscribers had lower weekend utility, Customers took the most long-duration trips over the weekends. Explicitly, `Customer` type users were more inclined to take longer trip durations than Subscribed users. Hence, Customers had a higher average duration among the user tyes inspite of `Subscribers` being more populated."
   ]
  },
  {
   "cell_type": "code",
   "execution_count": 50,
   "metadata": {},
   "outputs": [],
   "source": [
    "# save the dataset as csv files\n",
    "bike.to_csv('clean_bike_data.csv', index=False)\n",
    "user.to_csv('clean_user_data.csv', index=False)\n",
    "trip.to_csv('clean_trip_data.csv', index=False)"
   ]
  },
  {
   "cell_type": "markdown",
   "metadata": {},
   "source": [
    "### [Back to Top](#topic0)"
   ]
  },
  {
   "cell_type": "code",
   "execution_count": null,
   "metadata": {},
   "outputs": [],
   "source": []
  }
 ],
 "metadata": {
  "kernelspec": {
   "display_name": "Python 3 (ipykernel)",
   "language": "python",
   "name": "python3"
  },
  "language_info": {
   "codemirror_mode": {
    "name": "ipython",
    "version": 3
   },
   "file_extension": ".py",
   "mimetype": "text/x-python",
   "name": "python",
   "nbconvert_exporter": "python",
   "pygments_lexer": "ipython3",
   "version": "3.9.7"
  }
 },
 "nbformat": 4,
 "nbformat_minor": 2
}
